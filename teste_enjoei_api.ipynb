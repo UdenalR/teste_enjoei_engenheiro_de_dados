{
 "cells": [
  {
   "cell_type": "markdown",
   "metadata": {},
   "source": [
    "### Importar Bibliotecas  "
   ]
  },
  {
   "cell_type": "code",
   "execution_count": 1,
   "metadata": {},
   "outputs": [],
   "source": [
    "import requests\n",
    "import pandas as pd\n",
    "from datetime import datetime\n",
    "import logging"
   ]
  },
  {
   "cell_type": "markdown",
   "metadata": {},
   "source": [
    "### Função para obter os dados da API"
   ]
  },
  {
   "cell_type": "code",
   "execution_count": 2,
   "metadata": {},
   "outputs": [],
   "source": [
    "def get_api_data(endpoint):\n",
    "    url = f\"https://fakestoreapi.com/{endpoint}\"\n",
    "    response = requests.get(url)\n",
    "    return response.json()"
   ]
  },
  {
   "cell_type": "markdown",
   "metadata": {},
   "source": [
    "### Configuração do logger para registro de erros"
   ]
  },
  {
   "cell_type": "code",
   "execution_count": 3,
   "metadata": {},
   "outputs": [],
   "source": [
    "logging.basicConfig(filename='error.log', level=logging.ERROR)"
   ]
  },
  {
   "cell_type": "markdown",
   "metadata": {},
   "source": [
    "### Obter todos os carrinhos de compras"
   ]
  },
  {
   "cell_type": "code",
   "execution_count": 4,
   "metadata": {},
   "outputs": [],
   "source": [
    "carts = get_api_data(\"carts\")"
   ]
  },
  {
   "cell_type": "markdown",
   "metadata": {},
   "source": [
    "### Calcular o número total de carrinhos de compras"
   ]
  },
  {
   "cell_type": "code",
   "execution_count": 5,
   "metadata": {},
   "outputs": [
    {
     "name": "stdout",
     "output_type": "stream",
     "text": [
      "Total de carrinhos: 7\n"
     ]
    }
   ],
   "source": [
    "total_carts = len(carts)\n",
    "print(f\"Total de carrinhos: {total_carts}\")"
   ]
  },
  {
   "cell_type": "markdown",
   "metadata": {},
   "source": [
    "### Dicionário para armazenar informações dos usuários"
   ]
  },
  {
   "cell_type": "code",
   "execution_count": 6,
   "metadata": {},
   "outputs": [],
   "source": [
    "user_data = {\n",
    "    \"id_usuario\": [],\n",
    "    \"ultimo_carrinho\": [],\n",
    "    \"principal_categoria\": []\n",
    "}"
   ]
  },
  {
   "cell_type": "markdown",
   "metadata": {},
   "source": [
    "### Processamento dos dados, leitura e iterações."
   ]
  },
  {
   "cell_type": "code",
   "execution_count": 7,
   "metadata": {},
   "outputs": [
    {
     "name": "stdout",
     "output_type": "stream",
     "text": [
      "Total de registros processados: 7\n"
     ]
    }
   ],
   "source": [
    "#Iterar sobre os carrinhos de compras\n",
    "for cart in carts:\n",
    "    try:\n",
    "        id_usuario = cart[\"userId\"]\n",
    "        cart_date = datetime.strptime(cart[\"date\"], \"%Y-%m-%dT%H:%M:%S.%fZ\")\n",
    "        products = cart[\"products\"]\n",
    "        \n",
    "        #Verificar se o usuário já está no dicionário\n",
    "        if id_usuario not in user_data[\"id_usuario\"]:\n",
    "            #Adicionar uma nova entrada para cada usuário\n",
    "            user_data[\"id_usuario\"].append(id_usuario)\n",
    "            user_data[\"ultimo_carrinho\"].append(cart_date)\n",
    "            \n",
    "            # Se não houver produtos no carrinho, adicionar \"Nenhuma\" na coluna \"principal_categoria\"\n",
    "            if not products:\n",
    "                user_data[\"principal_categoria\"].append(\"Nenhuma\")\n",
    "            else:\n",
    "                # Para carrinhos não vazios, determinar a categoria principal\n",
    "                categories = []\n",
    "                for product in products:\n",
    "                    product_id = product[\"productId\"]\n",
    "                    # Obter detalhes do produto usando o endpoint /products\n",
    "                    product_details = get_api_data(f\"products/{product_id}\")\n",
    "                    if \"category\" in product_details:\n",
    "                        categories.append(product_details[\"category\"])\n",
    "                \n",
    "                if categories:\n",
    "                    most_common_category = max(set(categories), key=categories.count)\n",
    "                    user_data[\"principal_categoria\"].append(most_common_category)\n",
    "                else:\n",
    "                    user_data[\"principal_categoria\"].append(None)\n",
    "        else:\n",
    "            #Verificar se o carrinho atual é mais recente\n",
    "            idx = user_data[\"id_usuario\"].index(id_usuario)\n",
    "            if cart_date > user_data[\"ultimo_carrinho\"][idx]:\n",
    "                user_data[\"ultimo_carrinho\"][idx] = cart_date\n",
    "                #Atualizar as categorias se houver produtos no carrinho\n",
    "                if products:\n",
    "                    categories = []\n",
    "                    for product in products:\n",
    "                        product_id = product[\"productId\"]\n",
    "                        product_details = get_api_data(f\"products/{product_id}\")\n",
    "                        if \"category\" in product_details:\n",
    "                            categories.append(product_details[\"category\"])\n",
    "                    if categories:\n",
    "                        most_common_category = max(set(categories), key=categories.count)\n",
    "                        user_data[\"principal_categoria\"][idx] = most_common_category\n",
    "                    else:\n",
    "                        user_data[\"principal_categoria\"][idx] = None\n",
    "    except Exception as e:\n",
    "        logging.error(f\"Erro ao processar o carrinho: {e}\")\n",
    "\n",
    "#Após a iteração, exibir o total de registros processados\n",
    "total_records = len(carts)\n",
    "print(f\"Total de registros processados: {total_records}\")\n"
   ]
  },
  {
   "cell_type": "markdown",
   "metadata": {},
   "source": [
    "### Criar DataFrame com os dados dos usuários"
   ]
  },
  {
   "cell_type": "code",
   "execution_count": 8,
   "metadata": {},
   "outputs": [
    {
     "data": {
      "text/html": [
       "<div>\n",
       "<style scoped>\n",
       "    .dataframe tbody tr th:only-of-type {\n",
       "        vertical-align: middle;\n",
       "    }\n",
       "\n",
       "    .dataframe tbody tr th {\n",
       "        vertical-align: top;\n",
       "    }\n",
       "\n",
       "    .dataframe thead th {\n",
       "        text-align: right;\n",
       "    }\n",
       "</style>\n",
       "<table border=\"1\" class=\"dataframe\">\n",
       "  <thead>\n",
       "    <tr style=\"text-align: right;\">\n",
       "      <th></th>\n",
       "      <th>id_usuario</th>\n",
       "      <th>ultimo_carrinho</th>\n",
       "      <th>principal_categoria</th>\n",
       "    </tr>\n",
       "  </thead>\n",
       "  <tbody>\n",
       "    <tr>\n",
       "      <th>0</th>\n",
       "      <td>1</td>\n",
       "      <td>2020-03-02</td>\n",
       "      <td>men's clothing</td>\n",
       "    </tr>\n",
       "    <tr>\n",
       "      <th>1</th>\n",
       "      <td>2</td>\n",
       "      <td>2020-03-01</td>\n",
       "      <td>men's clothing</td>\n",
       "    </tr>\n",
       "    <tr>\n",
       "      <th>2</th>\n",
       "      <td>3</td>\n",
       "      <td>2020-03-01</td>\n",
       "      <td>jewelery</td>\n",
       "    </tr>\n",
       "    <tr>\n",
       "      <th>3</th>\n",
       "      <td>4</td>\n",
       "      <td>2020-03-01</td>\n",
       "      <td>electronics</td>\n",
       "    </tr>\n",
       "    <tr>\n",
       "      <th>4</th>\n",
       "      <td>8</td>\n",
       "      <td>2020-03-01</td>\n",
       "      <td>women's clothing</td>\n",
       "    </tr>\n",
       "  </tbody>\n",
       "</table>\n",
       "</div>"
      ],
      "text/plain": [
       "   id_usuario ultimo_carrinho principal_categoria\n",
       "0           1      2020-03-02      men's clothing\n",
       "1           2      2020-03-01      men's clothing\n",
       "2           3      2020-03-01            jewelery\n",
       "3           4      2020-03-01         electronics\n",
       "4           8      2020-03-01    women's clothing"
      ]
     },
     "metadata": {},
     "output_type": "display_data"
    }
   ],
   "source": [
    "user_df = pd.DataFrame(user_data)\n",
    "display(user_df)"
   ]
  },
  {
   "cell_type": "markdown",
   "metadata": {},
   "source": [
    "### Salvar DataFrame em formato CSV"
   ]
  },
  {
   "cell_type": "code",
   "execution_count": 9,
   "metadata": {},
   "outputs": [],
   "source": [
    "user_df.to_csv(\"user_data.csv\", index=False)"
   ]
  }
 ],
 "metadata": {
  "language_info": {
   "name": "python"
  }
 },
 "nbformat": 4,
 "nbformat_minor": 2
}
