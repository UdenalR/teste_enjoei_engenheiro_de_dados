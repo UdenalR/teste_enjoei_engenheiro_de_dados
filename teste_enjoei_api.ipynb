{
 "cells": [
  {
   "cell_type": "code",
   "execution_count": 1,
   "metadata": {},
   "outputs": [],
   "source": [
    "#Importar Bibliotecas  \n",
    "import requests\n",
    "import pandas as pd\n",
    "from datetime import datetime"
   ]
  },
  {
   "cell_type": "code",
   "execution_count": 2,
   "metadata": {},
   "outputs": [],
   "source": [
    "#Função para obter os dados da API\n",
    "def get_api_data(endpoint):\n",
    "    url = f\"https://fakestoreapi.com/{endpoint}\"\n",
    "    response = requests.get(url)\n",
    "    return response.json()"
   ]
  },
  {
   "cell_type": "code",
   "execution_count": 3,
   "metadata": {},
   "outputs": [],
   "source": [
    "#Obter todos os carrinhos de compras\n",
    "carts = get_api_data(\"carts\")"
   ]
  },
  {
   "cell_type": "code",
   "execution_count": 4,
   "metadata": {},
   "outputs": [
    {
     "name": "stdout",
     "output_type": "stream",
     "text": [
      "Total de carrinhos: 7\n"
     ]
    }
   ],
   "source": [
    "#Calcular o número total de carrinhos de compras\n",
    "total_carts = len(carts)\n",
    "print(f\"Total de carrinhos: {total_carts}\")"
   ]
  },
  {
   "cell_type": "code",
   "execution_count": 5,
   "metadata": {},
   "outputs": [],
   "source": [
    "#Dicionário para armazenar informações dos usuários\n",
    "user_data = {\n",
    "    \"id_usuario\": [],\n",
    "    \"data_carrinho\": [],\n",
    "    \"principal_categoria\": []\n",
    "}"
   ]
  },
  {
   "cell_type": "code",
   "execution_count": 6,
   "metadata": {},
   "outputs": [
    {
     "name": "stdout",
     "output_type": "stream",
     "text": [
      "Total de registros processados: 7\n"
     ]
    }
   ],
   "source": [
    "#Contagem de registros\n",
    "total_records = len(carts)\n",
    "\n",
    "# Registro de progresso\n",
    "processed_records = 0\n",
    "\n",
    "# Iterar sobre os carrinhos de compras\n",
    "for cart in carts:\n",
    "    try:\n",
    "        id_usuario = cart[\"userId\"]\n",
    "        cart_date = datetime.strptime(cart[\"date\"], \"%Y-%m-%dT%H:%M:%S.%fZ\")\n",
    "        products = cart[\"products\"]\n",
    "        \n",
    "        # Atualizar o registro de progresso\n",
    "        processed_records += 1\n",
    "\n",
    "        # Adicionar uma nova entrada para cada carrinho\n",
    "        user_data[\"id_usuario\"].append(id_usuario)\n",
    "        user_data[\"data_carrinho\"].append(cart_date)\n",
    "        \n",
    "        # Se não houver produtos no carrinho, adicionar \"Nenhuma\" na coluna \"principal_categoria\"\n",
    "        if not products:\n",
    "            user_data[\"principal_categoria\"].append(\"Nenhuma\")\n",
    "        else:\n",
    "            # Para carrinhos não vazios, determinar a categoria principal\n",
    "            categories = []\n",
    "            for product in products:\n",
    "                product_id = product[\"productId\"]\n",
    "                # Obter detalhes do produto usando o endpoint /products\n",
    "                product_details = get_api_data(f\"products/{product_id}\")\n",
    "                if \"category\" in product_details:\n",
    "                    categories.append(product_details[\"category\"])\n",
    "            \n",
    "            if categories:\n",
    "                most_common_category = max(set(categories), key=categories.count)\n",
    "                user_data[\"principal_categoria\"].append(most_common_category)\n",
    "            else:\n",
    "                user_data[\"principal_categoria\"].append(None)\n",
    "    \n",
    "    except Exception as e:\n",
    "        print(f\"Erro ao processar o carrinho: {e}\")\n",
    "\n",
    "# Verificação de Integridade\n",
    "for key, value in user_data.items():\n",
    "    if not value:\n",
    "        print(f\"A coluna {key} está vazia ou incompleta.\")\n",
    "\n",
    "# Após a iteração, exibir o total de registros processados\n",
    "print(f\"Total de registros processados: {processed_records}\")"
   ]
  },
  {
   "cell_type": "code",
   "execution_count": 7,
   "metadata": {},
   "outputs": [
    {
     "data": {
      "text/html": [
       "<div>\n",
       "<style scoped>\n",
       "    .dataframe tbody tr th:only-of-type {\n",
       "        vertical-align: middle;\n",
       "    }\n",
       "\n",
       "    .dataframe tbody tr th {\n",
       "        vertical-align: top;\n",
       "    }\n",
       "\n",
       "    .dataframe thead th {\n",
       "        text-align: right;\n",
       "    }\n",
       "</style>\n",
       "<table border=\"1\" class=\"dataframe\">\n",
       "  <thead>\n",
       "    <tr style=\"text-align: right;\">\n",
       "      <th></th>\n",
       "      <th>id_usuario</th>\n",
       "      <th>data_carrinho</th>\n",
       "      <th>principal_categoria</th>\n",
       "    </tr>\n",
       "  </thead>\n",
       "  <tbody>\n",
       "    <tr>\n",
       "      <th>0</th>\n",
       "      <td>1</td>\n",
       "      <td>2020-03-02</td>\n",
       "      <td>men's clothing</td>\n",
       "    </tr>\n",
       "    <tr>\n",
       "      <th>1</th>\n",
       "      <td>1</td>\n",
       "      <td>2020-01-02</td>\n",
       "      <td>men's clothing</td>\n",
       "    </tr>\n",
       "    <tr>\n",
       "      <th>2</th>\n",
       "      <td>2</td>\n",
       "      <td>2020-03-01</td>\n",
       "      <td>electronics</td>\n",
       "    </tr>\n",
       "    <tr>\n",
       "      <th>3</th>\n",
       "      <td>3</td>\n",
       "      <td>2020-01-01</td>\n",
       "      <td>men's clothing</td>\n",
       "    </tr>\n",
       "    <tr>\n",
       "      <th>4</th>\n",
       "      <td>3</td>\n",
       "      <td>2020-03-01</td>\n",
       "      <td>jewelery</td>\n",
       "    </tr>\n",
       "    <tr>\n",
       "      <th>5</th>\n",
       "      <td>4</td>\n",
       "      <td>2020-03-01</td>\n",
       "      <td>electronics</td>\n",
       "    </tr>\n",
       "    <tr>\n",
       "      <th>6</th>\n",
       "      <td>8</td>\n",
       "      <td>2020-03-01</td>\n",
       "      <td>women's clothing</td>\n",
       "    </tr>\n",
       "  </tbody>\n",
       "</table>\n",
       "</div>"
      ],
      "text/plain": [
       "   id_usuario data_carrinho principal_categoria\n",
       "0           1    2020-03-02      men's clothing\n",
       "1           1    2020-01-02      men's clothing\n",
       "2           2    2020-03-01         electronics\n",
       "3           3    2020-01-01      men's clothing\n",
       "4           3    2020-03-01            jewelery\n",
       "5           4    2020-03-01         electronics\n",
       "6           8    2020-03-01    women's clothing"
      ]
     },
     "metadata": {},
     "output_type": "display_data"
    }
   ],
   "source": [
    "#Criar DataFrame com os dados dos usuários\n",
    "user_df = pd.DataFrame(user_data)\n",
    "display(user_df)"
   ]
  },
  {
   "cell_type": "code",
   "execution_count": 8,
   "metadata": {},
   "outputs": [],
   "source": [
    "#Salvar DataFrame em formato CSV\n",
    "user_df.to_csv(\"user_data.csv\", index=False)"
   ]
  }
 ],
 "metadata": {
  "language_info": {
   "name": "python"
  }
 },
 "nbformat": 4,
 "nbformat_minor": 2
}
